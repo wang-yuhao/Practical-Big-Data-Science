{
 "cells": [
  {
   "cell_type": "code",
   "execution_count": 2,
   "metadata": {},
   "outputs": [
    {
     "data": {
      "text/plain": [
       "True"
      ]
     },
     "execution_count": 2,
     "metadata": {},
     "output_type": "execute_result"
    }
   ],
   "source": [
    "import os \n",
    "import match\n",
    "import pickle \n",
    "import torch\n",
    "import torch.autograd as autograd\n",
    "import torch.nn as nn\n",
    "import torch.nn.functional as F\n",
    "import torch.optim as optim\n",
    "\n",
    "from projection import *\n",
    "\n",
    "USE_CUDA = torch.cuda.is_available()\n",
    "if USE_CUDA:\n",
    "        longTensor = torch.cuda.LongTensor\n",
    "        floatTensor = torch.cuda.FloatTensor\n",
    "        \n",
    "else:\n",
    "        longTensor = torch.LongTensor\n",
    "        floatTensor = torch.FloatTensor\n",
    "        \n",
    "class TransEModel(nn.Module):\n",
    "        def __init__(self,config):\n",
    "                super(TransEModel,self).__init__()\n",
    "                self.learning_rate = config.learning_rate\n",
    "                self.early_stopping_round = config.early_stopping_round\n",
    "                self.L1_flag = config.L1_flag\n",
    "                self.filter = config.filter\n",
    "                self.embedding_size = configembedding"
   ]
  },
  {
   "cell_type": "code",
   "execution_count": 9,
   "metadata": {},
   "outputs": [
    {
     "name": "stdout",
     "output_type": "stream",
     "text": [
      "parent\n",
      "child\n",
      "HelloWorld from Parent\n",
      "Child bar function\n",
      "I'm the parent.\n",
      "HelloWorld\n"
     ]
    }
   ],
   "source": [
    "class FooParent(object):\n",
    "        def __init__(self):\n",
    "                self.parent = \"I'm the parent.\"\n",
    "                print('parent')\n",
    "                \n",
    "        def bar(self,message):\n",
    "            print(\"%s from Parent\" % message)\n",
    "            \n",
    "class FooChild(FooParent):\n",
    "        def __init__(self):\n",
    "                super(FooChild,self).__init__()\n",
    "                print('child')\n",
    "                \n",
    "        def bar(self, message):\n",
    "                super(FooChild, self).bar(message)\n",
    "                print('Child bar function')\n",
    "                print(self.parent)\n",
    "                print(message)\n",
    "                \n",
    "if __name__ == '__main__':\n",
    "    fooChild = FooChild()\n",
    "    fooChild.bar('HelloWorld')"
   ]
  },
  {
   "cell_type": "code",
   "execution_count": null,
   "metadata": {},
   "outputs": [],
   "source": []
  }
 ],
 "metadata": {
  "kernelspec": {
   "display_name": "Python 3",
   "language": "python",
   "name": "python3"
  },
  "language_info": {
   "codemirror_mode": {
    "name": "ipython",
    "version": 3
   },
   "file_extension": ".py",
   "mimetype": "text/x-python",
   "name": "python",
   "nbconvert_exporter": "python",
   "pygments_lexer": "ipython3",
   "version": "3.7.3"
  }
 },
 "nbformat": 4,
 "nbformat_minor": 2
}
