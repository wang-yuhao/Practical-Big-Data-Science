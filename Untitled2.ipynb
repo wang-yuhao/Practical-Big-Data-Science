{
 "cells": [
  {
   "cell_type": "code",
   "execution_count": null,
   "metadata": {},
   "outputs": [],
   "source": [
    "class Config(object):\n",
    "        def __init__(self):\n",
    "                self..dataset = None\n",
    "                self.learning_rate = 0.001\n",
    "                self.early_stopping_round = 0\n",
    "                self.L1_flag = True\n",
    "                self.embedding_size = 100\n",
    "                self.num_batches = 100\n",
    "                self.train_times = 1000\n",
    "                self.margin = 1.0\n",
    "                self.filter = True\n",
    "                self.momentum = 0.9\n",
    "                self.optimizer = optim.Adam\n",
    "                self.loss_function = loss.marginloss\n",
    "                self.entity_total = 0\n",
    "                self.relation_total = 0\n",
    "                self.batch_size = 0\n",
    "                \n",
    "    \n",
    "if __name__ = \"__main__\":\n",
    "        import argparse\n",
    "        argparse = argparse.ArgumentParse()\n",
    "        \n",
    "        \n",
    "        \n",
    "        \n",
    "        args = argparse.parse_args()\n",
    "        \n",
    "        # start the hyperboard agnet\n",
    "        agent = Agent(address='127.0.0.1', port=args.port)\n",
    "        \n",
    "        if args.seed != 0:\n",
    "                torch.manual_seed(args.seed)\n",
    "                \n",
    "        trainTotal,trainList,TrainDict = loadTriple('./data/'+ args.dataset,'train2id')\n",
    "        validTotal,validList,validDict = loadTriple('./data/'+ args.dataset,'valid2id')\n",
    "        tripleTotal,tripleList,tripleDict = loadTriple('./data/' + args.dataset,'triple2id.txt')\n",
    "        \n",
    "        "
   ]
  },
  {
   "cell_type": "code",
   "execution_count": null,
   "metadata": {},
   "outputs": [],
   "source": []
  }
 ],
 "metadata": {
  "kernelspec": {
   "display_name": "Python 3",
   "language": "python",
   "name": "python3"
  },
  "language_info": {
   "codemirror_mode": {
    "name": "ipython",
    "version": 3
   },
   "file_extension": ".py",
   "mimetype": "text/x-python",
   "name": "python",
   "nbconvert_exporter": "python",
   "pygments_lexer": "ipython3",
   "version": "3.7.3"
  }
 },
 "nbformat": 4,
 "nbformat_minor": 2
}
