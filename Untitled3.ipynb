{
 "cells": [
  {
   "cell_type": "code",
   "execution_count": 22,
   "metadata": {},
   "outputs": [],
   "source": [
    "import os\n",
    "\n",
    "\n",
    "class Triple(object):\n",
    "        def __init__(self, head, tail, relation):\n",
    "                self.h = head\n",
    "                self.t = tail\n",
    "                self.r = relation\n",
    "\n",
    "                \n",
    "def loadTriple(inPath,fileName):\n",
    "        with open(os.path.join(inPath, fileName),'r') as fr:\n",
    "                tripleTotal = 0\n",
    "                tripleList = []\n",
    "                for line in fr:\n",
    "                                tripleTotal += 1\n",
    "                                line_split = line.split()\n",
    "                                head = line_split[0]\n",
    "                                tail = line_split[1]\n",
    "                                rel = line_split[2]\n",
    "                                tripleList.append(Triple(head,tail,rel))\n",
    "                                \n",
    "        tripleDict = {}\n",
    "        \n",
    "        for triple in tripleList:\n",
    "                tripleDict[(triple.h,triple.t,triple.r)] = True\n",
    "                \n",
    "        return tripleTotal,tripleList,tripleDict\n",
    "    \n",
    "\n"
   ]
  },
  {
   "cell_type": "code",
   "execution_count": 23,
   "metadata": {},
   "outputs": [],
   "source": [
    "trainTotal,trainList,TrainDict=loadTriple('/home/yuhao/Downloads/FB15k-237/','train.txt')"
   ]
  },
  {
   "cell_type": "code",
   "execution_count": 27,
   "metadata": {},
   "outputs": [
    {
     "name": "stderr",
     "output_type": "stream",
     "text": [
      "IOPub data rate exceeded.\n",
      "The notebook server will temporarily stop sending output\n",
      "to the client in order to avoid crashing it.\n",
      "To change this limit, set the config variable\n",
      "`--NotebookApp.iopub_data_rate_limit`.\n",
      "\n",
      "Current values:\n",
      "NotebookApp.iopub_data_rate_limit=1000000.0 (bytes/sec)\n",
      "NotebookApp.rate_limit_window=3.0 (secs)\n",
      "\n"
     ]
    }
   ],
   "source": [
    "print(TrainDict)"
   ]
  },
  {
   "cell_type": "code",
   "execution_count": 6,
   "metadata": {},
   "outputs": [
    {
     "name": "stdout",
     "output_type": "stream",
     "text": [
      "[[1.8059696  2.264775   2.151731   1.6728795 ]\n",
      " [0.6580714  1.1254623  0.94007015 0.68348026]\n",
      " [1.2984056  1.9183993  1.6968815  1.4708577 ]\n",
      " [1.2776742  1.7344205  1.5005496  1.2795869 ]]\n"
     ]
    }
   ],
   "source": [
    "import tensorflow as tf\n",
    "import numpy as np\n",
    "\n",
    "x = tf.placeholder(tf.float32, shape=(4, 4))\n",
    "y = tf.matmul(x, x)\n",
    "\n",
    "with tf.Session() as sess:\n",
    " # print(sess.run(y))  # ERROR: will fail because x was not fed.\n",
    "\n",
    "  rand_array = np.random.rand(4, 4)\n",
    "  print(sess.run(y, feed_dict={x: rand_array}))  # Will succeed."
   ]
  },
  {
   "cell_type": "code",
   "execution_count": null,
   "metadata": {},
   "outputs": [],
   "source": []
  }
 ],
 "metadata": {
  "kernelspec": {
   "display_name": "Python 3",
   "language": "python",
   "name": "python3"
  },
  "language_info": {
   "codemirror_mode": {
    "name": "ipython",
    "version": 3
   },
   "file_extension": ".py",
   "mimetype": "text/x-python",
   "name": "python",
   "nbconvert_exporter": "python",
   "pygments_lexer": "ipython3",
   "version": "3.7.3"
  }
 },
 "nbformat": 4,
 "nbformat_minor": 2
}
